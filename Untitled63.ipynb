{
 "cells": [
  {
   "cell_type": "code",
   "execution_count": 11,
   "id": "430d5268",
   "metadata": {},
   "outputs": [
    {
     "data": {
      "text/plain": [
       "231"
      ]
     },
     "execution_count": 11,
     "metadata": {},
     "output_type": "execute_result"
    }
   ],
   "source": [
    "def minimumSum(s1,s2):\n",
    "    m = len(s1)\n",
    "    n = len(s2)\n",
    "    dp = [[0 for i in range(len(s1) + 1)] for j in range(len(s2) + 1)]\n",
    "    for i in range(len(s2) + 1):\n",
    "        for j in range(len(s1) + 1):\n",
    "            if i == 0 and j == 0: \n",
    "                continue\n",
    "            elif i == 0:\n",
    "                dp[i][j] += dp[i][j-1] + ord(s1[j-1])\n",
    "            elif j  == 0:\n",
    "                dp[i][j] += dp[i-1][j] + ord(s2[i-1])\n",
    "            elif s1[j-1] == s2[i-1]:\n",
    "                dp[i][j] = dp[i-1][j-1]\n",
    "            else:\n",
    "                dp[i][j] = min(ord(s1[j-1]) + dp[i][j-1], ord(s2[i-1]) + dp[i-1][j])\n",
    "\n",
    "    return dp[n][m]\n",
    "\n",
    "s1=\"sea\"\n",
    "s2=\"eat\"\n",
    "minimumSum(s1,s2)"
   ]
  },
  {
   "cell_type": "code",
   "execution_count": 12,
   "id": "cc60cb13",
   "metadata": {},
   "outputs": [
    {
     "data": {
      "text/plain": [
       "True"
      ]
     },
     "execution_count": 12,
     "metadata": {},
     "output_type": "execute_result"
    }
   ],
   "source": [
    "def validString(s):\n",
    "    leftMin, leftMax = 0, 0\n",
    "\n",
    "    for c in s:\n",
    "        if c == \"(\":\n",
    "            leftMin += 1\n",
    "            leftMax += 1\n",
    "        elif c == \")\":\n",
    "            leftMin -= 1\n",
    "            leftMax -= 1\n",
    "        else:\n",
    "            leftMin -= 1\n",
    "            leftMax += 1\n",
    "\n",
    "        if leftMax < 0:\n",
    "            return False\n",
    "        elif leftMin < 0:\n",
    "            leftMin = 0\n",
    "\n",
    "    return leftMin == 0\n",
    "\n",
    "s=\"()\"\n",
    "validString(s)"
   ]
  },
  {
   "cell_type": "code",
   "execution_count": 15,
   "id": "649cd1b4",
   "metadata": {},
   "outputs": [
    {
     "data": {
      "text/plain": [
       "2"
      ]
     },
     "execution_count": 15,
     "metadata": {},
     "output_type": "execute_result"
    }
   ],
   "source": [
    "def minimumSteps(word1,word2):\n",
    "    m, n = len(word1), len(word2)\n",
    "    dp = [[0] * (n + 1) for _ in range(m + 1)]\n",
    "    for i in range(1, m + 1):\n",
    "        for j in range(1, n + 1):\n",
    "            if word1[i - 1] == word2[j - 1]:\n",
    "                dp[i][j] = dp[i - 1][j - 1] + 1\n",
    "            else:\n",
    "                dp[i][j] = max(dp[i - 1][j], dp[i][j - 1])\n",
    "    return m + n - 2 * dp[m][n]\n",
    "\n",
    "word1=\"sea\"\n",
    "word2=\"eat\"\n",
    "minimumSteps(word1,word2)"
   ]
  },
  {
   "cell_type": "code",
   "execution_count": 24,
   "id": "4a5a2833",
   "metadata": {},
   "outputs": [
    {
     "data": {
      "text/plain": [
       "6"
      ]
     },
     "execution_count": 24,
     "metadata": {},
     "output_type": "execute_result"
    }
   ],
   "source": [
    "def modifiedString(chars):\n",
    "    s = \"\"\n",
    "    point1 = 0\n",
    "    point2 = 1\n",
    "\n",
    "    if len(chars)==1:\n",
    "        return len(chars)\n",
    "    for i in range(1,len(chars)):\n",
    "        if chars[point1] == chars[i]:\n",
    "            point2 += 1\n",
    "            if(i==len(chars)-1):\n",
    "                s+=chars[len(chars)-1]+str(point2)\n",
    "\n",
    "        elif chars[point1]!= chars[i]:\n",
    "            if(point2!=1):\n",
    "                s += chars[point1] + str(point2)\n",
    "            else:\n",
    "                s+=chars[point1]\n",
    "\n",
    "            point1 = i\n",
    "            point2 = 1\n",
    "\n",
    "            if(i==len(chars)-1):\n",
    "                if(point2!=1):\n",
    "                    s+=chars[len(chars)-1]+str(point2)\n",
    "                else:\n",
    "                    s+=chars[len(chars)-1]\n",
    "\n",
    "\n",
    "    for i in range(len(s)):\n",
    "        chars[i]=s[i]\n",
    "    return len(s)\n",
    "\n",
    "chars=[\"a\",\"a\",\"b\",\"b\",\"c\",\"c\",\"c\"]\n",
    "modifiedString(chars)"
   ]
  },
  {
   "cell_type": "code",
   "execution_count": 33,
   "id": "568fc767",
   "metadata": {},
   "outputs": [
    {
     "name": "stdout",
     "output_type": "stream",
     "text": [
      "0\n",
      "6\n"
     ]
    }
   ],
   "source": [
    "MAX=256\n",
    "def compare(arr1, arr2):\n",
    "    for i in range(MAX):\n",
    "        if arr1[i] != arr2[i]:\n",
    "            return False\n",
    "    return True\n",
    "def search(pat, txt):\n",
    "\n",
    "    M = len(pat)\n",
    "    N = len(txt)\n",
    "    countP = [0]*MAX\n",
    "    countTW = [0]*MAX\n",
    "\n",
    "    for i in range(M):\n",
    "        (countP[ord(pat[i]) ]) += 1\n",
    "        (countTW[ord(txt[i]) ]) += 1\n",
    "\n",
    "    for i in range(M,N):\n",
    "\n",
    "        if compare(countP, countTW):\n",
    "            print(i-M)\n",
    "        (countTW[ ord(txt[i]) ]) += 1\n",
    "        (countTW[ ord(txt[i-M]) ]) -= 1\n",
    "    if compare(countP, countTW):\n",
    "        print(N-M)\n",
    "txt=\"cbaebabacd\"\n",
    "pat=\"abc\"\n",
    "search(pat, txt)"
   ]
  },
  {
   "cell_type": "code",
   "execution_count": 36,
   "id": "47f0d3ff",
   "metadata": {},
   "outputs": [
    {
     "data": {
      "text/plain": [
       "'aaabcbc'"
      ]
     },
     "execution_count": 36,
     "metadata": {},
     "output_type": "execute_result"
    }
   ],
   "source": [
    "def decodedString(s):\n",
    "    stack=[]\n",
    "    for c in s:\n",
    "        if c!=']':\n",
    "            stack.append(c)\n",
    "        else:\n",
    "            res=''\n",
    "            while stack[-1]!='[':\n",
    "                res+=stack.pop()\n",
    "            stack.pop()\n",
    "            n=''\n",
    "            while len(stack)!=0 and stack[-1].isdigit()==True:\n",
    "                n+=stack.pop()\n",
    "            stack.append(res*int(n[::-1]))\n",
    "\n",
    "    return ''.join([word[::-1] for word in stack])\n",
    "\n",
    "s = \"3[a]2[bc]\"\n",
    "decodedString(s)  "
   ]
  },
  {
   "cell_type": "code",
   "execution_count": 38,
   "id": "c670c725",
   "metadata": {},
   "outputs": [
    {
     "data": {
      "text/plain": [
       "True"
      ]
     },
     "execution_count": 38,
     "metadata": {},
     "output_type": "execute_result"
    }
   ],
   "source": [
    "def sameString(s,goal):\n",
    "    if len(s) != len(goal):\n",
    "        return False\n",
    "        \n",
    "    if s == goal and len(set(s)) < len(s):\n",
    "        return True\n",
    "    diff = [(a, b) for a, b in zip(s, goal) if a != b]\n",
    "\n",
    "    return len(diff) == 2 and diff[0] == diff[1][::-1]\n",
    "\n",
    "s=\"ab\"\n",
    "goal=\"ba\"\n",
    "sameString(s,goal)"
   ]
  }
 ],
 "metadata": {
  "kernelspec": {
   "display_name": "Python 3 (ipykernel)",
   "language": "python",
   "name": "python3"
  },
  "language_info": {
   "codemirror_mode": {
    "name": "ipython",
    "version": 3
   },
   "file_extension": ".py",
   "mimetype": "text/x-python",
   "name": "python",
   "nbconvert_exporter": "python",
   "pygments_lexer": "ipython3",
   "version": "3.9.13"
  }
 },
 "nbformat": 4,
 "nbformat_minor": 5
}
